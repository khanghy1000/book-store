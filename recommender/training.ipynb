{
 "cells": [
  {
   "cell_type": "code",
   "id": "2c1160bf7ac70172",
   "metadata": {
    "ExecuteTime": {
     "end_time": "2024-11-17T13:16:41.144349Z",
     "start_time": "2024-11-17T13:16:41.126353Z"
    }
   },
   "source": [
    "import pandas as pd\n",
    "from sqlalchemy import create_engine\n",
    "import random\n",
    "import warnings\n",
    "import zipfile\n",
    "from pathlib import Path\n",
    "import pandas as pd\n",
    "import tensorflow as tf\n",
    "import tqdm\n",
    "from dotenv import load_dotenv\n",
    "import os\n",
    "\n",
    "load_dotenv()\n",
    "warnings.filterwarnings(\"ignore\")"
   ],
   "outputs": [],
   "execution_count": 17
  },
  {
   "metadata": {
    "ExecuteTime": {
     "end_time": "2024-11-17T13:16:41.316345Z",
     "start_time": "2024-11-17T13:16:41.230349Z"
    }
   },
   "cell_type": "code",
   "source": [
    "POSTGRES_ADDRESS = os.getenv(\"POSTGRES_ADDRESS\")\n",
    "POSTGRES_PORT = os.getenv(\"POSTGRES_PORT\")\n",
    "POSTGRES_USERNAME = os.getenv(\"POSTGRES_USERNAME\")\n",
    "POSTGRES_PASSWORD = os.getenv(\"POSTGRES_PASSWORD\")\n",
    "POSTGRES_DBNAME = os.getenv(\"POSTGRES_DBNAME\")\n",
    "\n",
    "postgres_str = ('postgresql://{username}:{password}@{ipaddress}:{port}/{dbname}'\n",
    "                .format(username=POSTGRES_USERNAME,\n",
    "                        password=POSTGRES_PASSWORD,\n",
    "                        ipaddress=POSTGRES_ADDRESS,\n",
    "                        port=POSTGRES_PORT,\n",
    "                        dbname=POSTGRES_DBNAME))\n",
    "\n",
    "cnx = create_engine(postgres_str)\n",
    "\n",
    "data = pd.read_sql_query(\"SELECT * FROM get_training_data\", cnx)\n",
    "data.fillna(\"missing\", inplace=True)\n",
    "data.shape"
   ],
   "id": "5a4ee0a9dcb79777",
   "outputs": [
    {
     "data": {
      "text/plain": [
       "(1934, 6)"
      ]
     },
     "execution_count": 18,
     "metadata": {},
     "output_type": "execute_result"
    }
   ],
   "execution_count": 18
  },
  {
   "metadata": {
    "ExecuteTime": {
     "end_time": "2024-11-17T13:16:41.561786Z",
     "start_time": "2024-11-17T13:16:41.533721Z"
    }
   },
   "cell_type": "code",
   "source": "data.iloc[random.choices(range(len(data)), k=10)]",
   "id": "42a723e46d514e40",
   "outputs": [
    {
     "data": {
      "text/plain": [
       "      user  item  label   category_1   category_2  category_3\n",
       "1905    72    73      0        Manga    Giả tưởng     missing\n",
       "512     30    96      2   Trong nước  Tiểu thuyết     missing\n",
       "1516    57   108      3    Giả tưởng        Manga     missing\n",
       "879     41    87      3   Nước ngoài  Tiểu thuyết     missing\n",
       "818     40    98      3   Trong nước  Tiểu thuyết     missing\n",
       "1851    71   102      2        Manga    Giả tưởng     missing\n",
       "1925    74    76      1    Giả tưởng        Manga     missing\n",
       "1074    44    89      2    Kinh điển  Tiểu thuyết  Nước ngoài\n",
       "1389    50    74      1        Manga    Giả tưởng     missing\n",
       "299     24    96      0  Tiểu thuyết   Trong nước     missing"
      ],
      "text/html": [
       "<div>\n",
       "<style scoped>\n",
       "    .dataframe tbody tr th:only-of-type {\n",
       "        vertical-align: middle;\n",
       "    }\n",
       "\n",
       "    .dataframe tbody tr th {\n",
       "        vertical-align: top;\n",
       "    }\n",
       "\n",
       "    .dataframe thead th {\n",
       "        text-align: right;\n",
       "    }\n",
       "</style>\n",
       "<table border=\"1\" class=\"dataframe\">\n",
       "  <thead>\n",
       "    <tr style=\"text-align: right;\">\n",
       "      <th></th>\n",
       "      <th>user</th>\n",
       "      <th>item</th>\n",
       "      <th>label</th>\n",
       "      <th>category_1</th>\n",
       "      <th>category_2</th>\n",
       "      <th>category_3</th>\n",
       "    </tr>\n",
       "  </thead>\n",
       "  <tbody>\n",
       "    <tr>\n",
       "      <th>1905</th>\n",
       "      <td>72</td>\n",
       "      <td>73</td>\n",
       "      <td>0</td>\n",
       "      <td>Manga</td>\n",
       "      <td>Giả tưởng</td>\n",
       "      <td>missing</td>\n",
       "    </tr>\n",
       "    <tr>\n",
       "      <th>512</th>\n",
       "      <td>30</td>\n",
       "      <td>96</td>\n",
       "      <td>2</td>\n",
       "      <td>Trong nước</td>\n",
       "      <td>Tiểu thuyết</td>\n",
       "      <td>missing</td>\n",
       "    </tr>\n",
       "    <tr>\n",
       "      <th>1516</th>\n",
       "      <td>57</td>\n",
       "      <td>108</td>\n",
       "      <td>3</td>\n",
       "      <td>Giả tưởng</td>\n",
       "      <td>Manga</td>\n",
       "      <td>missing</td>\n",
       "    </tr>\n",
       "    <tr>\n",
       "      <th>879</th>\n",
       "      <td>41</td>\n",
       "      <td>87</td>\n",
       "      <td>3</td>\n",
       "      <td>Nước ngoài</td>\n",
       "      <td>Tiểu thuyết</td>\n",
       "      <td>missing</td>\n",
       "    </tr>\n",
       "    <tr>\n",
       "      <th>818</th>\n",
       "      <td>40</td>\n",
       "      <td>98</td>\n",
       "      <td>3</td>\n",
       "      <td>Trong nước</td>\n",
       "      <td>Tiểu thuyết</td>\n",
       "      <td>missing</td>\n",
       "    </tr>\n",
       "    <tr>\n",
       "      <th>1851</th>\n",
       "      <td>71</td>\n",
       "      <td>102</td>\n",
       "      <td>2</td>\n",
       "      <td>Manga</td>\n",
       "      <td>Giả tưởng</td>\n",
       "      <td>missing</td>\n",
       "    </tr>\n",
       "    <tr>\n",
       "      <th>1925</th>\n",
       "      <td>74</td>\n",
       "      <td>76</td>\n",
       "      <td>1</td>\n",
       "      <td>Giả tưởng</td>\n",
       "      <td>Manga</td>\n",
       "      <td>missing</td>\n",
       "    </tr>\n",
       "    <tr>\n",
       "      <th>1074</th>\n",
       "      <td>44</td>\n",
       "      <td>89</td>\n",
       "      <td>2</td>\n",
       "      <td>Kinh điển</td>\n",
       "      <td>Tiểu thuyết</td>\n",
       "      <td>Nước ngoài</td>\n",
       "    </tr>\n",
       "    <tr>\n",
       "      <th>1389</th>\n",
       "      <td>50</td>\n",
       "      <td>74</td>\n",
       "      <td>1</td>\n",
       "      <td>Manga</td>\n",
       "      <td>Giả tưởng</td>\n",
       "      <td>missing</td>\n",
       "    </tr>\n",
       "    <tr>\n",
       "      <th>299</th>\n",
       "      <td>24</td>\n",
       "      <td>96</td>\n",
       "      <td>0</td>\n",
       "      <td>Tiểu thuyết</td>\n",
       "      <td>Trong nước</td>\n",
       "      <td>missing</td>\n",
       "    </tr>\n",
       "  </tbody>\n",
       "</table>\n",
       "</div>"
      ]
     },
     "execution_count": 19,
     "metadata": {},
     "output_type": "execute_result"
    }
   ],
   "execution_count": 19
  },
  {
   "metadata": {
    "collapsed": true,
    "ExecuteTime": {
     "end_time": "2024-11-17T13:16:41.668876Z",
     "start_time": "2024-11-17T13:16:41.655872Z"
    }
   },
   "cell_type": "code",
   "source": [
    "from libreco.data import random_split\n",
    "\n",
    "train_data, eval_data, test_data = random_split(data, multi_ratios=[0.8, 0.1, 0.1], seed=42)"
   ],
   "id": "initial_id",
   "outputs": [],
   "execution_count": 20
  },
  {
   "metadata": {
    "ExecuteTime": {
     "end_time": "2024-11-17T13:16:41.777469Z",
     "start_time": "2024-11-17T13:16:41.749472Z"
    }
   },
   "cell_type": "code",
   "source": [
    "from libreco.data import DatasetFeat\n",
    "\n",
    "sparse_col = [\"category_1\", \"category_2\", \"category_3\"]\n",
    "item_col = [\"category_1\", \"category_2\", \"category_3\"]\n",
    "\n",
    "train_data, data_info = DatasetFeat.build_trainset(train_data=train_data, user_col=[], item_col=item_col,\n",
    "                                                   sparse_col=sparse_col, dense_col=[])\n",
    "eval_data = DatasetFeat.build_evalset(eval_data)\n",
    "test_data = DatasetFeat.build_testset(test_data)\n",
    "data_info"
   ],
   "id": "9e742f36b5e2fcda",
   "outputs": [
    {
     "data": {
      "text/plain": [
       "n_users: 60, n_items: 52, data density: 49.5513 %"
      ]
     },
     "execution_count": 21,
     "metadata": {},
     "output_type": "execute_result"
    }
   ],
   "execution_count": 21
  },
  {
   "metadata": {
    "ExecuteTime": {
     "end_time": "2024-11-17T13:16:48.525200Z",
     "start_time": "2024-11-17T13:16:42.024454Z"
    }
   },
   "cell_type": "code",
   "source": [
    "from libreco.algorithms import TwoTower\n",
    "tf.compat.v1.reset_default_graph()\n",
    "\n",
    "model = TwoTower(\n",
    "    task=\"ranking\",\n",
    "    data_info=data_info,\n",
    "    embed_size=16,\n",
    "    n_epochs=30,\n",
    "    loss_type=\"cross_entropy\",\n",
    "    lr=0.001,\n",
    "    batch_size=2048,\n",
    "    use_bn=True,\n",
    "    hidden_units=(128, 64, 32),\n",
    ")\n",
    "\n",
    "model.fit(\n",
    "    train_data,\n",
    "    neg_sampling=True,  # perform negative sampling on training and eval data\n",
    "    verbose=2,\n",
    "    shuffle=True,\n",
    "    eval_data=eval_data,\n",
    "    metrics=[\"loss\", \"roc_auc\", \"precision\", \"recall\", \"ndcg\"],\n",
    ")\n",
    "\n",
    "model.init_knn(approximate=False, sim_type=\"cosine\")"
   ],
   "id": "b9655eb016c1cd9b",
   "outputs": [
    {
     "name": "stdout",
     "output_type": "stream",
     "text": [
      "Training start time: \u001B[35m2024-11-17 20:16:42\u001B[0m\n",
      "total params: \u001B[33m34,368\u001B[0m | embedding params: \u001B[33m2,720\u001B[0m | network params: \u001B[33m31,648\u001B[0m\n"
     ]
    },
    {
     "name": "stderr",
     "output_type": "stream",
     "text": [
      "train: 100%|██████████| 2/2 [00:00<00:00,  3.60it/s]\n"
     ]
    },
    {
     "name": "stdout",
     "output_type": "stream",
     "text": [
      "Epoch 1 elapsed: 0.560s\n",
      "\t \u001B[32mtrain_loss: 2.5348\u001B[0m\n"
     ]
    },
    {
     "name": "stderr",
     "output_type": "stream",
     "text": [
      "eval_pointwise: 100%|██████████| 1/1 [00:00<00:00, 994.38it/s]\n",
      "eval_listwise: 100%|██████████| 1/1 [00:00<00:00, 332.01it/s]\n"
     ]
    },
    {
     "name": "stdout",
     "output_type": "stream",
     "text": [
      "\t eval log_loss: 0.6945\n",
      "\t eval roc_auc: 0.4565\n",
      "\t eval precision@10: 0.0096\n",
      "\t eval recall@10: 0.0272\n",
      "\t eval ndcg@10: 0.0319\n",
      "==============================\n"
     ]
    },
    {
     "name": "stderr",
     "output_type": "stream",
     "text": [
      "train: 100%|██████████| 2/2 [00:00<00:00, 64.52it/s]\n"
     ]
    },
    {
     "name": "stdout",
     "output_type": "stream",
     "text": [
      "Epoch 2 elapsed: 0.035s\n",
      "\t \u001B[32mtrain_loss: 1.7641\u001B[0m\n"
     ]
    },
    {
     "name": "stderr",
     "output_type": "stream",
     "text": [
      "eval_pointwise: 100%|██████████| 1/1 [00:00<00:00, 1016.06it/s]\n",
      "eval_listwise: 100%|██████████| 1/1 [00:00<00:00, 330.94it/s]\n"
     ]
    },
    {
     "name": "stdout",
     "output_type": "stream",
     "text": [
      "\t eval log_loss: 0.6936\n",
      "\t eval roc_auc: 0.4859\n",
      "\t eval precision@10: 0.0115\n",
      "\t eval recall@10: 0.0304\n",
      "\t eval ndcg@10: 0.0375\n",
      "==============================\n"
     ]
    },
    {
     "name": "stderr",
     "output_type": "stream",
     "text": [
      "train: 100%|██████████| 2/2 [00:00<00:00, 68.44it/s]\n"
     ]
    },
    {
     "name": "stdout",
     "output_type": "stream",
     "text": [
      "Epoch 3 elapsed: 0.033s\n",
      "\t \u001B[32mtrain_loss: 1.413\u001B[0m\n"
     ]
    },
    {
     "name": "stderr",
     "output_type": "stream",
     "text": [
      "eval_pointwise: 100%|██████████| 1/1 [00:00<?, ?it/s]\n",
      "eval_listwise: 100%|██████████| 1/1 [00:00<00:00, 331.62it/s]\n"
     ]
    },
    {
     "name": "stdout",
     "output_type": "stream",
     "text": [
      "\t eval log_loss: 0.6927\n",
      "\t eval roc_auc: 0.5264\n",
      "\t eval precision@10: 0.0115\n",
      "\t eval recall@10: 0.0304\n",
      "\t eval ndcg@10: 0.0384\n",
      "==============================\n"
     ]
    },
    {
     "name": "stderr",
     "output_type": "stream",
     "text": [
      "train: 100%|██████████| 2/2 [00:00<00:00, 63.86it/s]\n"
     ]
    },
    {
     "name": "stdout",
     "output_type": "stream",
     "text": [
      "Epoch 4 elapsed: 0.035s\n",
      "\t \u001B[32mtrain_loss: 1.2123\u001B[0m\n"
     ]
    },
    {
     "name": "stderr",
     "output_type": "stream",
     "text": [
      "eval_pointwise: 100%|██████████| 1/1 [00:00<?, ?it/s]\n",
      "eval_listwise: 100%|██████████| 1/1 [00:00<00:00, 331.83it/s]\n"
     ]
    },
    {
     "name": "stdout",
     "output_type": "stream",
     "text": [
      "\t eval log_loss: 0.6920\n",
      "\t eval roc_auc: 0.5631\n",
      "\t eval precision@10: 0.0135\n",
      "\t eval recall@10: 0.0343\n",
      "\t eval ndcg@10: 0.0423\n",
      "==============================\n"
     ]
    },
    {
     "name": "stderr",
     "output_type": "stream",
     "text": [
      "train: 100%|██████████| 2/2 [00:00<00:00, 64.53it/s]\n"
     ]
    },
    {
     "name": "stdout",
     "output_type": "stream",
     "text": [
      "Epoch 5 elapsed: 0.035s\n",
      "\t \u001B[32mtrain_loss: 1.0885\u001B[0m\n"
     ]
    },
    {
     "name": "stderr",
     "output_type": "stream",
     "text": [
      "eval_pointwise: 100%|██████████| 1/1 [00:00<00:00, 999.83it/s]\n",
      "eval_listwise: 100%|██████████| 1/1 [00:00<00:00, 379.44it/s]\n"
     ]
    },
    {
     "name": "stdout",
     "output_type": "stream",
     "text": [
      "\t eval log_loss: 0.6914\n",
      "\t eval roc_auc: 0.5872\n",
      "\t eval precision@10: 0.0154\n",
      "\t eval recall@10: 0.0439\n",
      "\t eval ndcg@10: 0.0450\n",
      "==============================\n"
     ]
    },
    {
     "name": "stderr",
     "output_type": "stream",
     "text": [
      "train: 100%|██████████| 2/2 [00:00<00:00, 64.53it/s]\n"
     ]
    },
    {
     "name": "stdout",
     "output_type": "stream",
     "text": [
      "Epoch 6 elapsed: 0.034s\n",
      "\t \u001B[32mtrain_loss: 0.9494\u001B[0m\n"
     ]
    },
    {
     "name": "stderr",
     "output_type": "stream",
     "text": [
      "eval_pointwise: 100%|██████████| 1/1 [00:00<?, ?it/s]\n",
      "eval_listwise: 100%|██████████| 1/1 [00:00<00:00, 332.80it/s]\n"
     ]
    },
    {
     "name": "stdout",
     "output_type": "stream",
     "text": [
      "\t eval log_loss: 0.6909\n",
      "\t eval roc_auc: 0.6038\n",
      "\t eval precision@10: 0.0154\n",
      "\t eval recall@10: 0.0462\n",
      "\t eval ndcg@10: 0.0491\n",
      "==============================\n"
     ]
    },
    {
     "name": "stderr",
     "output_type": "stream",
     "text": [
      "train: 100%|██████████| 2/2 [00:00<00:00, 66.68it/s]\n"
     ]
    },
    {
     "name": "stdout",
     "output_type": "stream",
     "text": [
      "Epoch 7 elapsed: 0.034s\n",
      "\t \u001B[32mtrain_loss: 0.8917\u001B[0m\n"
     ]
    },
    {
     "name": "stderr",
     "output_type": "stream",
     "text": [
      "eval_pointwise: 100%|██████████| 1/1 [00:00<00:00, 503.28it/s]\n",
      "eval_listwise: 100%|██████████| 1/1 [00:00<00:00, 250.11it/s]\n"
     ]
    },
    {
     "name": "stdout",
     "output_type": "stream",
     "text": [
      "\t eval log_loss: 0.6905\n",
      "\t eval roc_auc: 0.6138\n",
      "\t eval precision@10: 0.0173\n",
      "\t eval recall@10: 0.0654\n",
      "\t eval ndcg@10: 0.0574\n",
      "==============================\n"
     ]
    },
    {
     "name": "stderr",
     "output_type": "stream",
     "text": [
      "train: 100%|██████████| 2/2 [00:00<00:00, 62.50it/s]\n"
     ]
    },
    {
     "name": "stdout",
     "output_type": "stream",
     "text": [
      "Epoch 8 elapsed: 0.034s\n",
      "\t \u001B[32mtrain_loss: 0.8246\u001B[0m\n"
     ]
    },
    {
     "name": "stderr",
     "output_type": "stream",
     "text": [
      "eval_pointwise: 100%|██████████| 1/1 [00:00<?, ?it/s]\n",
      "eval_listwise: 100%|██████████| 1/1 [00:00<00:00, 250.26it/s]\n"
     ]
    },
    {
     "name": "stdout",
     "output_type": "stream",
     "text": [
      "\t eval log_loss: 0.6903\n",
      "\t eval roc_auc: 0.6153\n",
      "\t eval precision@10: 0.0154\n",
      "\t eval recall@10: 0.0622\n",
      "\t eval ndcg@10: 0.0566\n",
      "==============================\n"
     ]
    },
    {
     "name": "stderr",
     "output_type": "stream",
     "text": [
      "train: 100%|██████████| 2/2 [00:00<00:00, 66.70it/s]\n"
     ]
    },
    {
     "name": "stdout",
     "output_type": "stream",
     "text": [
      "Epoch 9 elapsed: 0.035s\n",
      "\t \u001B[32mtrain_loss: 0.7942\u001B[0m\n"
     ]
    },
    {
     "name": "stderr",
     "output_type": "stream",
     "text": [
      "eval_pointwise: 100%|██████████| 1/1 [00:00<00:00, 1002.46it/s]\n",
      "eval_listwise: 100%|██████████| 1/1 [00:00<00:00, 249.36it/s]\n"
     ]
    },
    {
     "name": "stdout",
     "output_type": "stream",
     "text": [
      "\t eval log_loss: 0.6900\n",
      "\t eval roc_auc: 0.6181\n",
      "\t eval precision@10: 0.0231\n",
      "\t eval recall@10: 0.0885\n",
      "\t eval ndcg@10: 0.0737\n",
      "==============================\n"
     ]
    },
    {
     "name": "stderr",
     "output_type": "stream",
     "text": [
      "train: 100%|██████████| 2/2 [00:00<00:00, 64.57it/s]\n"
     ]
    },
    {
     "name": "stdout",
     "output_type": "stream",
     "text": [
      "Epoch 10 elapsed: 0.034s\n",
      "\t \u001B[32mtrain_loss: 0.7666\u001B[0m\n"
     ]
    },
    {
     "name": "stderr",
     "output_type": "stream",
     "text": [
      "eval_pointwise: 100%|██████████| 1/1 [00:00<00:00, 1000.31it/s]\n",
      "eval_listwise: 100%|██████████| 1/1 [00:00<00:00, 333.41it/s]\n"
     ]
    },
    {
     "name": "stdout",
     "output_type": "stream",
     "text": [
      "\t eval log_loss: 0.6897\n",
      "\t eval roc_auc: 0.6199\n",
      "\t eval precision@10: 0.0269\n",
      "\t eval recall@10: 0.1109\n",
      "\t eval ndcg@10: 0.0923\n",
      "==============================\n"
     ]
    },
    {
     "name": "stderr",
     "output_type": "stream",
     "text": [
      "train: 100%|██████████| 2/2 [00:00<00:00, 65.20it/s]\n"
     ]
    },
    {
     "name": "stdout",
     "output_type": "stream",
     "text": [
      "Epoch 11 elapsed: 0.034s\n",
      "\t \u001B[32mtrain_loss: 0.704\u001B[0m\n"
     ]
    },
    {
     "name": "stderr",
     "output_type": "stream",
     "text": [
      "eval_pointwise: 100%|██████████| 1/1 [00:00<00:00, 1001.74it/s]\n",
      "eval_listwise: 100%|██████████| 1/1 [00:00<00:00, 279.34it/s]\n"
     ]
    },
    {
     "name": "stdout",
     "output_type": "stream",
     "text": [
      "\t eval log_loss: 0.6895\n",
      "\t eval roc_auc: 0.6214\n",
      "\t eval precision@10: 0.0250\n",
      "\t eval recall@10: 0.1077\n",
      "\t eval ndcg@10: 0.0911\n",
      "==============================\n"
     ]
    },
    {
     "name": "stderr",
     "output_type": "stream",
     "text": [
      "train: 100%|██████████| 2/2 [00:00<00:00, 63.92it/s]\n"
     ]
    },
    {
     "name": "stdout",
     "output_type": "stream",
     "text": [
      "Epoch 12 elapsed: 0.035s\n",
      "\t \u001B[32mtrain_loss: 0.7187\u001B[0m\n"
     ]
    },
    {
     "name": "stderr",
     "output_type": "stream",
     "text": [
      "eval_pointwise: 100%|██████████| 1/1 [00:00<00:00, 499.92it/s]\n",
      "eval_listwise: 100%|██████████| 1/1 [00:00<00:00, 334.77it/s]\n"
     ]
    },
    {
     "name": "stdout",
     "output_type": "stream",
     "text": [
      "\t eval log_loss: 0.6891\n",
      "\t eval roc_auc: 0.6235\n",
      "\t eval precision@10: 0.0250\n",
      "\t eval recall@10: 0.1077\n",
      "\t eval ndcg@10: 0.0953\n",
      "==============================\n"
     ]
    },
    {
     "name": "stderr",
     "output_type": "stream",
     "text": [
      "train: 100%|██████████| 2/2 [00:00<00:00, 66.67it/s]\n"
     ]
    },
    {
     "name": "stdout",
     "output_type": "stream",
     "text": [
      "Epoch 13 elapsed: 0.035s\n",
      "\t \u001B[32mtrain_loss: 0.6872\u001B[0m\n"
     ]
    },
    {
     "name": "stderr",
     "output_type": "stream",
     "text": [
      "eval_pointwise: 100%|██████████| 1/1 [00:00<?, ?it/s]\n",
      "eval_listwise: 100%|██████████| 1/1 [00:00<00:00, 333.09it/s]\n"
     ]
    },
    {
     "name": "stdout",
     "output_type": "stream",
     "text": [
      "\t eval log_loss: 0.6888\n",
      "\t eval roc_auc: 0.6257\n",
      "\t eval precision@10: 0.0269\n",
      "\t eval recall@10: 0.1173\n",
      "\t eval ndcg@10: 0.1046\n",
      "==============================\n"
     ]
    },
    {
     "name": "stderr",
     "output_type": "stream",
     "text": [
      "train: 100%|██████████| 2/2 [00:00<00:00, 68.97it/s]\n"
     ]
    },
    {
     "name": "stdout",
     "output_type": "stream",
     "text": [
      "Epoch 14 elapsed: 0.034s\n",
      "\t \u001B[32mtrain_loss: 0.6251\u001B[0m\n"
     ]
    },
    {
     "name": "stderr",
     "output_type": "stream",
     "text": [
      "eval_pointwise: 100%|██████████| 1/1 [00:00<00:00, 1011.89it/s]\n",
      "eval_listwise: 100%|██████████| 1/1 [00:00<00:00, 497.19it/s]\n"
     ]
    },
    {
     "name": "stdout",
     "output_type": "stream",
     "text": [
      "\t eval log_loss: 0.6885\n",
      "\t eval roc_auc: 0.6250\n",
      "\t eval precision@10: 0.0250\n",
      "\t eval recall@10: 0.1077\n",
      "\t eval ndcg@10: 0.1022\n",
      "==============================\n"
     ]
    },
    {
     "name": "stderr",
     "output_type": "stream",
     "text": [
      "train: 100%|██████████| 2/2 [00:00<00:00, 62.50it/s]\n"
     ]
    },
    {
     "name": "stdout",
     "output_type": "stream",
     "text": [
      "Epoch 15 elapsed: 0.036s\n",
      "\t \u001B[32mtrain_loss: 0.6418\u001B[0m\n"
     ]
    },
    {
     "name": "stderr",
     "output_type": "stream",
     "text": [
      "eval_pointwise: 100%|██████████| 1/1 [00:00<?, ?it/s]\n",
      "eval_listwise: 100%|██████████| 1/1 [00:00<00:00, 333.36it/s]\n"
     ]
    },
    {
     "name": "stdout",
     "output_type": "stream",
     "text": [
      "\t eval log_loss: 0.6882\n",
      "\t eval roc_auc: 0.6260\n",
      "\t eval precision@10: 0.0288\n",
      "\t eval recall@10: 0.1269\n",
      "\t eval ndcg@10: 0.1146\n",
      "==============================\n"
     ]
    },
    {
     "name": "stderr",
     "output_type": "stream",
     "text": [
      "train: 100%|██████████| 2/2 [00:00<00:00, 66.65it/s]\n"
     ]
    },
    {
     "name": "stdout",
     "output_type": "stream",
     "text": [
      "Epoch 16 elapsed: 0.034s\n",
      "\t \u001B[32mtrain_loss: 0.6307\u001B[0m\n"
     ]
    },
    {
     "name": "stderr",
     "output_type": "stream",
     "text": [
      "eval_pointwise: 100%|██████████| 1/1 [00:00<?, ?it/s]\n",
      "eval_listwise: 100%|██████████| 1/1 [00:00<00:00, 332.14it/s]\n"
     ]
    },
    {
     "name": "stdout",
     "output_type": "stream",
     "text": [
      "\t eval log_loss: 0.6880\n",
      "\t eval roc_auc: 0.6250\n",
      "\t eval precision@10: 0.0288\n",
      "\t eval recall@10: 0.1269\n",
      "\t eval ndcg@10: 0.1128\n",
      "==============================\n"
     ]
    },
    {
     "name": "stderr",
     "output_type": "stream",
     "text": [
      "train: 100%|██████████| 2/2 [00:00<00:00, 64.57it/s]\n"
     ]
    },
    {
     "name": "stdout",
     "output_type": "stream",
     "text": [
      "Epoch 17 elapsed: 0.034s\n",
      "\t \u001B[32mtrain_loss: 0.6162\u001B[0m\n"
     ]
    },
    {
     "name": "stderr",
     "output_type": "stream",
     "text": [
      "eval_pointwise: 100%|██████████| 1/1 [00:00<?, ?it/s]\n",
      "eval_listwise: 100%|██████████| 1/1 [00:00<00:00, 333.01it/s]\n"
     ]
    },
    {
     "name": "stdout",
     "output_type": "stream",
     "text": [
      "\t eval log_loss: 0.6877\n",
      "\t eval roc_auc: 0.6255\n",
      "\t eval precision@10: 0.0288\n",
      "\t eval recall@10: 0.1269\n",
      "\t eval ndcg@10: 0.1133\n",
      "==============================\n"
     ]
    },
    {
     "name": "stderr",
     "output_type": "stream",
     "text": [
      "train: 100%|██████████| 2/2 [00:00<00:00, 35.08it/s]"
     ]
    },
    {
     "name": "stdout",
     "output_type": "stream",
     "text": [
      "Epoch 18 elapsed: 0.063s\n",
      "\t \u001B[32mtrain_loss: 0.5895\u001B[0m\n"
     ]
    },
    {
     "name": "stderr",
     "output_type": "stream",
     "text": [
      "\n",
      "eval_pointwise: 100%|██████████| 1/1 [00:00<?, ?it/s]\n",
      "eval_listwise: 100%|██████████| 1/1 [00:00<00:00, 333.97it/s]\n"
     ]
    },
    {
     "name": "stdout",
     "output_type": "stream",
     "text": [
      "\t eval log_loss: 0.6875\n",
      "\t eval roc_auc: 0.6259\n",
      "\t eval precision@10: 0.0308\n",
      "\t eval recall@10: 0.1301\n",
      "\t eval ndcg@10: 0.1272\n",
      "==============================\n"
     ]
    },
    {
     "name": "stderr",
     "output_type": "stream",
     "text": [
      "train: 100%|██████████| 2/2 [00:00<00:00, 62.84it/s]\n"
     ]
    },
    {
     "name": "stdout",
     "output_type": "stream",
     "text": [
      "Epoch 19 elapsed: 0.036s\n",
      "\t \u001B[32mtrain_loss: 0.5889\u001B[0m\n"
     ]
    },
    {
     "name": "stderr",
     "output_type": "stream",
     "text": [
      "eval_pointwise: 100%|██████████| 1/1 [00:00<00:00, 998.64it/s]\n",
      "eval_listwise: 100%|██████████| 1/1 [00:00<00:00, 334.34it/s]\n"
     ]
    },
    {
     "name": "stdout",
     "output_type": "stream",
     "text": [
      "\t eval log_loss: 0.6872\n",
      "\t eval roc_auc: 0.6250\n",
      "\t eval precision@10: 0.0308\n",
      "\t eval recall@10: 0.1301\n",
      "\t eval ndcg@10: 0.1286\n",
      "==============================\n"
     ]
    },
    {
     "name": "stderr",
     "output_type": "stream",
     "text": [
      "train: 100%|██████████| 2/2 [00:00<00:00, 64.51it/s]"
     ]
    },
    {
     "name": "stdout",
     "output_type": "stream",
     "text": [
      "Epoch 20 elapsed: 0.036s\n",
      "\t \u001B[32mtrain_loss: 0.621\u001B[0m\n"
     ]
    },
    {
     "name": "stderr",
     "output_type": "stream",
     "text": [
      "\n",
      "eval_pointwise: 100%|██████████| 1/1 [00:00<?, ?it/s]\n",
      "eval_listwise: 100%|██████████| 1/1 [00:00<00:00, 333.36it/s]\n"
     ]
    },
    {
     "name": "stdout",
     "output_type": "stream",
     "text": [
      "\t eval log_loss: 0.6870\n",
      "\t eval roc_auc: 0.6248\n",
      "\t eval precision@10: 0.0308\n",
      "\t eval recall@10: 0.1301\n",
      "\t eval ndcg@10: 0.1245\n",
      "==============================\n"
     ]
    },
    {
     "name": "stderr",
     "output_type": "stream",
     "text": [
      "train: 100%|██████████| 2/2 [00:00<00:00, 66.65it/s]"
     ]
    },
    {
     "name": "stdout",
     "output_type": "stream",
     "text": [
      "Epoch 21 elapsed: 0.034s\n",
      "\t \u001B[32mtrain_loss: 0.5948\u001B[0m\n"
     ]
    },
    {
     "name": "stderr",
     "output_type": "stream",
     "text": [
      "\n",
      "eval_pointwise: 100%|██████████| 1/1 [00:00<?, ?it/s]\n",
      "eval_listwise: 100%|██████████| 1/1 [00:00<00:00, 250.86it/s]\n"
     ]
    },
    {
     "name": "stdout",
     "output_type": "stream",
     "text": [
      "\t eval log_loss: 0.6868\n",
      "\t eval roc_auc: 0.6228\n",
      "\t eval precision@10: 0.0308\n",
      "\t eval recall@10: 0.1301\n",
      "\t eval ndcg@10: 0.1219\n",
      "==============================\n"
     ]
    },
    {
     "name": "stderr",
     "output_type": "stream",
     "text": [
      "train: 100%|██████████| 2/2 [00:00<00:00, 62.52it/s]\n"
     ]
    },
    {
     "name": "stdout",
     "output_type": "stream",
     "text": [
      "Epoch 22 elapsed: 0.036s\n",
      "\t \u001B[32mtrain_loss: 0.5862\u001B[0m\n"
     ]
    },
    {
     "name": "stderr",
     "output_type": "stream",
     "text": [
      "eval_pointwise: 100%|██████████| 1/1 [00:00<00:00, 998.88it/s]\n",
      "eval_listwise: 100%|██████████| 1/1 [00:00<00:00, 333.52it/s]\n"
     ]
    },
    {
     "name": "stdout",
     "output_type": "stream",
     "text": [
      "\t eval log_loss: 0.6865\n",
      "\t eval roc_auc: 0.6219\n",
      "\t eval precision@10: 0.0308\n",
      "\t eval recall@10: 0.1301\n",
      "\t eval ndcg@10: 0.1173\n",
      "==============================\n"
     ]
    },
    {
     "name": "stderr",
     "output_type": "stream",
     "text": [
      "train: 100%|██████████| 2/2 [00:00<00:00, 64.51it/s]\n"
     ]
    },
    {
     "name": "stdout",
     "output_type": "stream",
     "text": [
      "Epoch 23 elapsed: 0.035s\n",
      "\t \u001B[32mtrain_loss: 0.563\u001B[0m\n"
     ]
    },
    {
     "name": "stderr",
     "output_type": "stream",
     "text": [
      "eval_pointwise: 100%|██████████| 1/1 [00:00<00:00, 999.36it/s]\n",
      "eval_listwise: 100%|██████████| 1/1 [00:00<00:00, 333.78it/s]\n"
     ]
    },
    {
     "name": "stdout",
     "output_type": "stream",
     "text": [
      "\t eval log_loss: 0.6860\n",
      "\t eval roc_auc: 0.6236\n",
      "\t eval precision@10: 0.0308\n",
      "\t eval recall@10: 0.1301\n",
      "\t eval ndcg@10: 0.1174\n",
      "==============================\n"
     ]
    },
    {
     "name": "stderr",
     "output_type": "stream",
     "text": [
      "train: 100%|██████████| 2/2 [00:00<00:00, 68.96it/s]\n"
     ]
    },
    {
     "name": "stdout",
     "output_type": "stream",
     "text": [
      "Epoch 24 elapsed: 0.033s\n",
      "\t \u001B[32mtrain_loss: 0.5543\u001B[0m\n"
     ]
    },
    {
     "name": "stderr",
     "output_type": "stream",
     "text": [
      "eval_pointwise: 100%|██████████| 1/1 [00:00<00:00, 1004.14it/s]\n",
      "eval_listwise: 100%|██████████| 1/1 [00:00<00:00, 333.60it/s]\n"
     ]
    },
    {
     "name": "stdout",
     "output_type": "stream",
     "text": [
      "\t eval log_loss: 0.6855\n",
      "\t eval roc_auc: 0.6254\n",
      "\t eval precision@10: 0.0288\n",
      "\t eval recall@10: 0.1205\n",
      "\t eval ndcg@10: 0.1127\n",
      "==============================\n"
     ]
    },
    {
     "name": "stderr",
     "output_type": "stream",
     "text": [
      "train: 100%|██████████| 2/2 [00:00<00:00, 68.56it/s]\n"
     ]
    },
    {
     "name": "stdout",
     "output_type": "stream",
     "text": [
      "Epoch 25 elapsed: 0.032s\n",
      "\t \u001B[32mtrain_loss: 0.5581\u001B[0m\n"
     ]
    },
    {
     "name": "stderr",
     "output_type": "stream",
     "text": [
      "eval_pointwise: 100%|██████████| 1/1 [00:00<00:00, 1001.51it/s]\n",
      "eval_listwise: 100%|██████████| 1/1 [00:00<00:00, 333.30it/s]\n"
     ]
    },
    {
     "name": "stdout",
     "output_type": "stream",
     "text": [
      "\t eval log_loss: 0.6851\n",
      "\t eval roc_auc: 0.6258\n",
      "\t eval precision@10: 0.0269\n",
      "\t eval recall@10: 0.1141\n",
      "\t eval ndcg@10: 0.1120\n",
      "==============================\n"
     ]
    },
    {
     "name": "stderr",
     "output_type": "stream",
     "text": [
      "train: 100%|██████████| 2/2 [00:00<00:00, 66.69it/s]\n"
     ]
    },
    {
     "name": "stdout",
     "output_type": "stream",
     "text": [
      "Epoch 26 elapsed: 0.035s\n",
      "\t \u001B[32mtrain_loss: 0.5667\u001B[0m\n"
     ]
    },
    {
     "name": "stderr",
     "output_type": "stream",
     "text": [
      "eval_pointwise: 100%|██████████| 1/1 [00:00<00:00, 1012.63it/s]\n",
      "eval_listwise: 100%|██████████| 1/1 [00:00<00:00, 334.18it/s]\n"
     ]
    },
    {
     "name": "stdout",
     "output_type": "stream",
     "text": [
      "\t eval log_loss: 0.6849\n",
      "\t eval roc_auc: 0.6233\n",
      "\t eval precision@10: 0.0288\n",
      "\t eval recall@10: 0.1173\n",
      "\t eval ndcg@10: 0.1145\n",
      "==============================\n"
     ]
    },
    {
     "name": "stderr",
     "output_type": "stream",
     "text": [
      "train: 100%|██████████| 2/2 [00:00<00:00, 67.20it/s]\n"
     ]
    },
    {
     "name": "stdout",
     "output_type": "stream",
     "text": [
      "Epoch 27 elapsed: 0.033s\n",
      "\t \u001B[32mtrain_loss: 0.5587\u001B[0m\n"
     ]
    },
    {
     "name": "stderr",
     "output_type": "stream",
     "text": [
      "eval_pointwise: 100%|██████████| 1/1 [00:00<00:00, 1008.97it/s]\n",
      "eval_listwise: 100%|██████████| 1/1 [00:00<00:00, 304.07it/s]\n"
     ]
    },
    {
     "name": "stdout",
     "output_type": "stream",
     "text": [
      "\t eval log_loss: 0.6847\n",
      "\t eval roc_auc: 0.6226\n",
      "\t eval precision@10: 0.0288\n",
      "\t eval recall@10: 0.1173\n",
      "\t eval ndcg@10: 0.1139\n",
      "==============================\n"
     ]
    },
    {
     "name": "stderr",
     "output_type": "stream",
     "text": [
      "train: 100%|██████████| 2/2 [00:00<00:00, 69.84it/s]\n"
     ]
    },
    {
     "name": "stdout",
     "output_type": "stream",
     "text": [
      "Epoch 28 elapsed: 0.032s\n",
      "\t \u001B[32mtrain_loss: 0.5439\u001B[0m\n"
     ]
    },
    {
     "name": "stderr",
     "output_type": "stream",
     "text": [
      "eval_pointwise: 100%|██████████| 1/1 [00:00<00:00, 994.62it/s]\n",
      "eval_listwise: 100%|██████████| 1/1 [00:00<00:00, 333.60it/s]\n"
     ]
    },
    {
     "name": "stdout",
     "output_type": "stream",
     "text": [
      "\t eval log_loss: 0.6845\n",
      "\t eval roc_auc: 0.6213\n",
      "\t eval precision@10: 0.0269\n",
      "\t eval recall@10: 0.1141\n",
      "\t eval ndcg@10: 0.1132\n",
      "==============================\n"
     ]
    },
    {
     "name": "stderr",
     "output_type": "stream",
     "text": [
      "train: 100%|██████████| 2/2 [00:00<00:00, 66.67it/s]"
     ]
    },
    {
     "name": "stdout",
     "output_type": "stream",
     "text": [
      "Epoch 29 elapsed: 0.034s\n",
      "\t \u001B[32mtrain_loss: 0.5483\u001B[0m\n"
     ]
    },
    {
     "name": "stderr",
     "output_type": "stream",
     "text": [
      "\n",
      "eval_pointwise: 100%|██████████| 1/1 [00:00<00:00, 991.09it/s]\n",
      "eval_listwise: 100%|██████████| 1/1 [00:00<00:00, 333.86it/s]\n"
     ]
    },
    {
     "name": "stdout",
     "output_type": "stream",
     "text": [
      "\t eval log_loss: 0.6841\n",
      "\t eval roc_auc: 0.6210\n",
      "\t eval precision@10: 0.0269\n",
      "\t eval recall@10: 0.1141\n",
      "\t eval ndcg@10: 0.1095\n",
      "==============================\n"
     ]
    },
    {
     "name": "stderr",
     "output_type": "stream",
     "text": [
      "train: 100%|██████████| 2/2 [00:00<00:00, 71.44it/s]\n"
     ]
    },
    {
     "name": "stdout",
     "output_type": "stream",
     "text": [
      "Epoch 30 elapsed: 0.033s\n",
      "\t \u001B[32mtrain_loss: 0.5425\u001B[0m\n"
     ]
    },
    {
     "name": "stderr",
     "output_type": "stream",
     "text": [
      "eval_pointwise: 100%|██████████| 1/1 [00:00<00:00, 997.93it/s]\n",
      "eval_listwise: 100%|██████████| 1/1 [00:00<00:00, 249.81it/s]"
     ]
    },
    {
     "name": "stdout",
     "output_type": "stream",
     "text": [
      "\t eval log_loss: 0.6838\n",
      "\t eval roc_auc: 0.6195\n",
      "\t eval precision@10: 0.0269\n",
      "\t eval recall@10: 0.1141\n",
      "\t eval ndcg@10: 0.1102\n",
      "==============================\n"
     ]
    },
    {
     "name": "stderr",
     "output_type": "stream",
     "text": [
      "\n"
     ]
    }
   ],
   "execution_count": 22
  },
  {
   "metadata": {
    "ExecuteTime": {
     "end_time": "2024-11-17T13:16:48.788216Z",
     "start_time": "2024-11-17T13:16:48.751782Z"
    }
   },
   "cell_type": "code",
   "source": [
    "from libreco.evaluation import evaluate\n",
    "\n",
    "evaluate(\n",
    "    model=model,\n",
    "    data=test_data,\n",
    "    neg_sampling=True,  # perform negative sampling on test data\n",
    "    metrics=[\"loss\", \"roc_auc\", \"precision\", \"recall\", \"ndcg\"],\n",
    ")"
   ],
   "id": "fcaf754714799568",
   "outputs": [
    {
     "name": "stderr",
     "output_type": "stream",
     "text": [
      "eval_pointwise: 100%|██████████| 1/1 [00:00<00:00, 1009.95it/s]\n",
      "eval_listwise: 100%|██████████| 1/1 [00:00<00:00, 333.41it/s]\n"
     ]
    },
    {
     "data": {
      "text/plain": [
       "{'loss': 0.6868372136953229,\n",
       " 'roc_auc': 0.5805080242321181,\n",
       " 'precision': 0.009615384615384616,\n",
       " 'recall': 0.04711538461538462,\n",
       " 'ndcg': 0.0375278449640126}"
      ]
     },
     "execution_count": 23,
     "metadata": {},
     "output_type": "execute_result"
    }
   ],
   "execution_count": 23
  },
  {
   "metadata": {
    "ExecuteTime": {
     "end_time": "2024-11-17T13:16:51.029680Z",
     "start_time": "2024-11-17T13:16:49.040699Z"
    }
   },
   "cell_type": "code",
   "source": [
    "data_info.save(\"models\", model_name=\"two_tower\")\n",
    "model.save(\"models\", model_name=\"two_tower\", inference_only=True)"
   ],
   "id": "2b53d85337ab7e53",
   "outputs": [],
   "execution_count": 24
  }
 ],
 "metadata": {
  "kernelspec": {
   "display_name": "Python 3",
   "language": "python",
   "name": "python3"
  },
  "language_info": {
   "codemirror_mode": {
    "name": "ipython",
    "version": 2
   },
   "file_extension": ".py",
   "mimetype": "text/x-python",
   "name": "python",
   "nbconvert_exporter": "python",
   "pygments_lexer": "ipython2",
   "version": "2.7.6"
  }
 },
 "nbformat": 4,
 "nbformat_minor": 5
}
