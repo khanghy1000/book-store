{
 "cells": [
  {
   "cell_type": "code",
   "id": "2c1160bf7ac70172",
   "metadata": {
    "ExecuteTime": {
     "end_time": "2024-11-19T15:12:26.137680Z",
     "start_time": "2024-11-19T15:12:26.128586Z"
    }
   },
   "source": [
    "import pandas as pd\n",
    "from sqlalchemy import create_engine\n",
    "import random\n",
    "import warnings\n",
    "import zipfile\n",
    "from pathlib import Path\n",
    "import pandas as pd\n",
    "import tensorflow as tf\n",
    "import tqdm\n",
    "from dotenv import load_dotenv\n",
    "import os\n",
    "\n",
    "load_dotenv()\n",
    "warnings.filterwarnings(\"ignore\")"
   ],
   "outputs": [],
   "execution_count": 13
  },
  {
   "metadata": {
    "ExecuteTime": {
     "end_time": "2024-11-19T15:12:26.275227Z",
     "start_time": "2024-11-19T15:12:26.192246Z"
    }
   },
   "cell_type": "code",
   "source": [
    "POSTGRES_ADDRESS = os.getenv(\"POSTGRES_ADDRESS\")\n",
    "POSTGRES_PORT = os.getenv(\"POSTGRES_PORT\")\n",
    "POSTGRES_USERNAME = os.getenv(\"POSTGRES_USERNAME\")\n",
    "POSTGRES_PASSWORD = os.getenv(\"POSTGRES_PASSWORD\")\n",
    "POSTGRES_DBNAME = os.getenv(\"POSTGRES_DBNAME\")\n",
    "\n",
    "postgres_str = ('postgresql://{username}:{password}@{ipaddress}:{port}/{dbname}'\n",
    "                .format(username=POSTGRES_USERNAME,\n",
    "                        password=POSTGRES_PASSWORD,\n",
    "                        ipaddress=POSTGRES_ADDRESS,\n",
    "                        port=POSTGRES_PORT,\n",
    "                        dbname=POSTGRES_DBNAME))\n",
    "\n",
    "cnx = create_engine(postgres_str)\n",
    "\n",
    "data = pd.read_sql_query(\"SELECT * FROM get_training_data\", cnx)\n",
    "data.fillna(\"missing\", inplace=True)\n",
    "data.shape"
   ],
   "id": "5a4ee0a9dcb79777",
   "outputs": [
    {
     "data": {
      "text/plain": [
       "(1934, 6)"
      ]
     },
     "execution_count": 14,
     "metadata": {},
     "output_type": "execute_result"
    }
   ],
   "execution_count": 14
  },
  {
   "metadata": {
    "ExecuteTime": {
     "end_time": "2024-11-19T15:12:26.397229Z",
     "start_time": "2024-11-19T15:12:26.384229Z"
    }
   },
   "cell_type": "code",
   "source": "data.iloc[random.choices(range(len(data)), k=10)]",
   "id": "42a723e46d514e40",
   "outputs": [
    {
     "data": {
      "text/plain": [
       "      user  item  label   category_1   category_2  category_3\n",
       "1905    72    73      0        Manga    Giả tưởng     missing\n",
       "512     30    96      2   Trong nước  Tiểu thuyết     missing\n",
       "1516    57   108      3    Giả tưởng        Manga     missing\n",
       "879     41    87      3   Nước ngoài  Tiểu thuyết     missing\n",
       "818     40    98      3   Trong nước  Tiểu thuyết     missing\n",
       "1851    71   102      2        Manga    Giả tưởng     missing\n",
       "1925    74    76      1    Giả tưởng        Manga     missing\n",
       "1074    44    89      2    Kinh điển  Tiểu thuyết  Nước ngoài\n",
       "1389    50    74      1        Manga    Giả tưởng     missing\n",
       "299     24    96      0  Tiểu thuyết   Trong nước     missing"
      ],
      "text/html": [
       "<div>\n",
       "<style scoped>\n",
       "    .dataframe tbody tr th:only-of-type {\n",
       "        vertical-align: middle;\n",
       "    }\n",
       "\n",
       "    .dataframe tbody tr th {\n",
       "        vertical-align: top;\n",
       "    }\n",
       "\n",
       "    .dataframe thead th {\n",
       "        text-align: right;\n",
       "    }\n",
       "</style>\n",
       "<table border=\"1\" class=\"dataframe\">\n",
       "  <thead>\n",
       "    <tr style=\"text-align: right;\">\n",
       "      <th></th>\n",
       "      <th>user</th>\n",
       "      <th>item</th>\n",
       "      <th>label</th>\n",
       "      <th>category_1</th>\n",
       "      <th>category_2</th>\n",
       "      <th>category_3</th>\n",
       "    </tr>\n",
       "  </thead>\n",
       "  <tbody>\n",
       "    <tr>\n",
       "      <th>1905</th>\n",
       "      <td>72</td>\n",
       "      <td>73</td>\n",
       "      <td>0</td>\n",
       "      <td>Manga</td>\n",
       "      <td>Giả tưởng</td>\n",
       "      <td>missing</td>\n",
       "    </tr>\n",
       "    <tr>\n",
       "      <th>512</th>\n",
       "      <td>30</td>\n",
       "      <td>96</td>\n",
       "      <td>2</td>\n",
       "      <td>Trong nước</td>\n",
       "      <td>Tiểu thuyết</td>\n",
       "      <td>missing</td>\n",
       "    </tr>\n",
       "    <tr>\n",
       "      <th>1516</th>\n",
       "      <td>57</td>\n",
       "      <td>108</td>\n",
       "      <td>3</td>\n",
       "      <td>Giả tưởng</td>\n",
       "      <td>Manga</td>\n",
       "      <td>missing</td>\n",
       "    </tr>\n",
       "    <tr>\n",
       "      <th>879</th>\n",
       "      <td>41</td>\n",
       "      <td>87</td>\n",
       "      <td>3</td>\n",
       "      <td>Nước ngoài</td>\n",
       "      <td>Tiểu thuyết</td>\n",
       "      <td>missing</td>\n",
       "    </tr>\n",
       "    <tr>\n",
       "      <th>818</th>\n",
       "      <td>40</td>\n",
       "      <td>98</td>\n",
       "      <td>3</td>\n",
       "      <td>Trong nước</td>\n",
       "      <td>Tiểu thuyết</td>\n",
       "      <td>missing</td>\n",
       "    </tr>\n",
       "    <tr>\n",
       "      <th>1851</th>\n",
       "      <td>71</td>\n",
       "      <td>102</td>\n",
       "      <td>2</td>\n",
       "      <td>Manga</td>\n",
       "      <td>Giả tưởng</td>\n",
       "      <td>missing</td>\n",
       "    </tr>\n",
       "    <tr>\n",
       "      <th>1925</th>\n",
       "      <td>74</td>\n",
       "      <td>76</td>\n",
       "      <td>1</td>\n",
       "      <td>Giả tưởng</td>\n",
       "      <td>Manga</td>\n",
       "      <td>missing</td>\n",
       "    </tr>\n",
       "    <tr>\n",
       "      <th>1074</th>\n",
       "      <td>44</td>\n",
       "      <td>89</td>\n",
       "      <td>2</td>\n",
       "      <td>Kinh điển</td>\n",
       "      <td>Tiểu thuyết</td>\n",
       "      <td>Nước ngoài</td>\n",
       "    </tr>\n",
       "    <tr>\n",
       "      <th>1389</th>\n",
       "      <td>50</td>\n",
       "      <td>74</td>\n",
       "      <td>1</td>\n",
       "      <td>Manga</td>\n",
       "      <td>Giả tưởng</td>\n",
       "      <td>missing</td>\n",
       "    </tr>\n",
       "    <tr>\n",
       "      <th>299</th>\n",
       "      <td>24</td>\n",
       "      <td>96</td>\n",
       "      <td>0</td>\n",
       "      <td>Tiểu thuyết</td>\n",
       "      <td>Trong nước</td>\n",
       "      <td>missing</td>\n",
       "    </tr>\n",
       "  </tbody>\n",
       "</table>\n",
       "</div>"
      ]
     },
     "execution_count": 15,
     "metadata": {},
     "output_type": "execute_result"
    }
   ],
   "execution_count": 15
  },
  {
   "metadata": {
    "collapsed": true,
    "ExecuteTime": {
     "end_time": "2024-11-19T15:12:26.676821Z",
     "start_time": "2024-11-19T15:12:26.656800Z"
    }
   },
   "cell_type": "code",
   "source": [
    "from libreco.data import random_split\n",
    "\n",
    "train_data, eval_data, test_data = random_split(data, multi_ratios=[0.8, 0.1, 0.1], seed=42)"
   ],
   "id": "initial_id",
   "outputs": [],
   "execution_count": 16
  },
  {
   "metadata": {
    "ExecuteTime": {
     "end_time": "2024-11-19T15:12:26.849041Z",
     "start_time": "2024-11-19T15:12:26.826010Z"
    }
   },
   "cell_type": "code",
   "source": [
    "from libreco.data import DatasetFeat\n",
    "\n",
    "sparse_col = [\"category_1\", \"category_2\", \"category_3\"]\n",
    "item_col = [\"category_1\", \"category_2\", \"category_3\"]\n",
    "\n",
    "train_data, data_info = DatasetFeat.build_trainset(train_data=train_data, user_col=[], item_col=item_col,\n",
    "                                                   sparse_col=sparse_col, dense_col=[])\n",
    "eval_data = DatasetFeat.build_evalset(eval_data)\n",
    "test_data = DatasetFeat.build_testset(test_data)\n",
    "data_info"
   ],
   "id": "9e742f36b5e2fcda",
   "outputs": [
    {
     "data": {
      "text/plain": [
       "n_users: 60, n_items: 52, data density: 49.5513 %"
      ]
     },
     "execution_count": 17,
     "metadata": {},
     "output_type": "execute_result"
    }
   ],
   "execution_count": 17
  },
  {
   "metadata": {
    "ExecuteTime": {
     "end_time": "2024-11-19T15:12:29.537793Z",
     "start_time": "2024-11-19T15:12:26.965038Z"
    }
   },
   "cell_type": "code",
   "source": [
    "from libreco.algorithms import WideDeep\n",
    "tf.compat.v1.reset_default_graph()\n",
    "\n",
    "model = WideDeep(\n",
    "    task=\"ranking\",\n",
    "    data_info=data_info,\n",
    "    embed_size=16,\n",
    "    n_epochs=10,\n",
    "    loss_type=\"cross_entropy\",\n",
    "    lr={\"wide\": 0.05, \"deep\": 7e-4},\n",
    "    batch_size=2048,\n",
    "    use_bn=True,\n",
    "    hidden_units=(128, 64, 32),\n",
    ")\n",
    "\n",
    "model.fit(\n",
    "    train_data,\n",
    "    neg_sampling=True,  # perform negative sampling on training and eval data\n",
    "    verbose=2,\n",
    "    shuffle=True,\n",
    "    eval_data=eval_data,\n",
    "    metrics=[\"loss\", \"roc_auc\", \"precision\", \"recall\", \"ndcg\"],\n",
    ")"
   ],
   "id": "b9655eb016c1cd9b",
   "outputs": [
    {
     "name": "stdout",
     "output_type": "stream",
     "text": [
      "Training start time: \u001B[35m2024-11-19 22:12:26\u001B[0m\n",
      "total params: \u001B[33m23,718\u001B[0m | embedding params: \u001B[33m2,657\u001B[0m | network params: \u001B[33m21,061\u001B[0m\n"
     ]
    },
    {
     "name": "stderr",
     "output_type": "stream",
     "text": [
      "train: 100%|██████████| 2/2 [00:00<00:00,  4.78it/s]\n"
     ]
    },
    {
     "name": "stdout",
     "output_type": "stream",
     "text": [
      "Epoch 1 elapsed: 0.422s\n",
      "\t \u001B[32mtrain_loss: 0.8288\u001B[0m\n"
     ]
    },
    {
     "name": "stderr",
     "output_type": "stream",
     "text": [
      "eval_pointwise: 100%|██████████| 1/1 [00:00<00:00, 14.92it/s]\n",
      "eval_listwise: 100%|██████████| 1/1 [00:00<00:00, 124.57it/s]\n"
     ]
    },
    {
     "name": "stdout",
     "output_type": "stream",
     "text": [
      "\t eval log_loss: 0.6931\n",
      "\t eval roc_auc: 0.5030\n",
      "\t eval precision@10: 0.0115\n",
      "\t eval recall@10: 0.0462\n",
      "\t eval ndcg@10: 0.0395\n",
      "==============================\n"
     ]
    },
    {
     "name": "stderr",
     "output_type": "stream",
     "text": [
      "train: 100%|██████████| 2/2 [00:00<00:00, 83.34it/s]\n"
     ]
    },
    {
     "name": "stdout",
     "output_type": "stream",
     "text": [
      "Epoch 2 elapsed: 0.028s\n",
      "\t \u001B[32mtrain_loss: 0.7568\u001B[0m\n"
     ]
    },
    {
     "name": "stderr",
     "output_type": "stream",
     "text": [
      "eval_pointwise: 100%|██████████| 1/1 [00:00<00:00, 499.92it/s]\n",
      "eval_listwise: 100%|██████████| 1/1 [00:00<00:00, 106.11it/s]\n"
     ]
    },
    {
     "name": "stdout",
     "output_type": "stream",
     "text": [
      "\t eval log_loss: 0.6935\n",
      "\t eval roc_auc: 0.5051\n",
      "\t eval precision@10: 0.0154\n",
      "\t eval recall@10: 0.0615\n",
      "\t eval ndcg@10: 0.0488\n",
      "==============================\n"
     ]
    },
    {
     "name": "stderr",
     "output_type": "stream",
     "text": [
      "train: 100%|██████████| 2/2 [00:00<00:00, 83.36it/s]\n"
     ]
    },
    {
     "name": "stdout",
     "output_type": "stream",
     "text": [
      "Epoch 3 elapsed: 0.028s\n",
      "\t \u001B[32mtrain_loss: 0.7126\u001B[0m\n"
     ]
    },
    {
     "name": "stderr",
     "output_type": "stream",
     "text": [
      "eval_pointwise: 100%|██████████| 1/1 [00:00<00:00, 501.17it/s]\n",
      "eval_listwise: 100%|██████████| 1/1 [00:00<00:00, 124.96it/s]\n"
     ]
    },
    {
     "name": "stdout",
     "output_type": "stream",
     "text": [
      "\t eval log_loss: 0.6934\n",
      "\t eval roc_auc: 0.5118\n",
      "\t eval precision@10: 0.0192\n",
      "\t eval recall@10: 0.0760\n",
      "\t eval ndcg@10: 0.0629\n",
      "==============================\n"
     ]
    },
    {
     "name": "stderr",
     "output_type": "stream",
     "text": [
      "train: 100%|██████████| 2/2 [00:00<00:00, 83.32it/s]\n"
     ]
    },
    {
     "name": "stdout",
     "output_type": "stream",
     "text": [
      "Epoch 4 elapsed: 0.028s\n",
      "\t \u001B[32mtrain_loss: 0.6992\u001B[0m\n"
     ]
    },
    {
     "name": "stderr",
     "output_type": "stream",
     "text": [
      "eval_pointwise: 100%|██████████| 1/1 [00:00<00:00, 333.68it/s]\n",
      "eval_listwise: 100%|██████████| 1/1 [00:00<00:00, 111.05it/s]\n"
     ]
    },
    {
     "name": "stdout",
     "output_type": "stream",
     "text": [
      "\t eval log_loss: 0.6929\n",
      "\t eval roc_auc: 0.5200\n",
      "\t eval precision@10: 0.0212\n",
      "\t eval recall@10: 0.0856\n",
      "\t eval ndcg@10: 0.0686\n",
      "==============================\n"
     ]
    },
    {
     "name": "stderr",
     "output_type": "stream",
     "text": [
      "train: 100%|██████████| 2/2 [00:00<00:00, 86.95it/s]\n"
     ]
    },
    {
     "name": "stdout",
     "output_type": "stream",
     "text": [
      "Epoch 5 elapsed: 0.029s\n",
      "\t \u001B[32mtrain_loss: 0.6885\u001B[0m\n"
     ]
    },
    {
     "name": "stderr",
     "output_type": "stream",
     "text": [
      "eval_pointwise: 100%|██████████| 1/1 [00:00<00:00, 499.14it/s]\n",
      "eval_listwise: 100%|██████████| 1/1 [00:00<00:00, 125.05it/s]\n"
     ]
    },
    {
     "name": "stdout",
     "output_type": "stream",
     "text": [
      "\t eval log_loss: 0.6922\n",
      "\t eval roc_auc: 0.5307\n",
      "\t eval precision@10: 0.0231\n",
      "\t eval recall@10: 0.0894\n",
      "\t eval ndcg@10: 0.0731\n",
      "==============================\n"
     ]
    },
    {
     "name": "stderr",
     "output_type": "stream",
     "text": [
      "train: 100%|██████████| 2/2 [00:00<00:00, 83.34it/s]\n"
     ]
    },
    {
     "name": "stdout",
     "output_type": "stream",
     "text": [
      "Epoch 6 elapsed: 0.029s\n",
      "\t \u001B[32mtrain_loss: 0.6703\u001B[0m\n"
     ]
    },
    {
     "name": "stderr",
     "output_type": "stream",
     "text": [
      "eval_pointwise: 100%|██████████| 1/1 [00:00<00:00, 500.16it/s]\n",
      "eval_listwise: 100%|██████████| 1/1 [00:00<00:00, 111.15it/s]\n"
     ]
    },
    {
     "name": "stdout",
     "output_type": "stream",
     "text": [
      "\t eval log_loss: 0.6915\n",
      "\t eval roc_auc: 0.5414\n",
      "\t eval precision@10: 0.0250\n",
      "\t eval recall@10: 0.0958\n",
      "\t eval ndcg@10: 0.0801\n",
      "==============================\n"
     ]
    },
    {
     "name": "stderr",
     "output_type": "stream",
     "text": [
      "train: 100%|██████████| 2/2 [00:00<00:00, 84.74it/s]\n"
     ]
    },
    {
     "name": "stdout",
     "output_type": "stream",
     "text": [
      "Epoch 7 elapsed: 0.028s\n",
      "\t \u001B[32mtrain_loss: 0.6499\u001B[0m\n"
     ]
    },
    {
     "name": "stderr",
     "output_type": "stream",
     "text": [
      "eval_pointwise: 100%|██████████| 1/1 [00:00<00:00, 501.71it/s]\n",
      "eval_listwise: 100%|██████████| 1/1 [00:00<00:00, 125.09it/s]\n"
     ]
    },
    {
     "name": "stdout",
     "output_type": "stream",
     "text": [
      "\t eval log_loss: 0.6909\n",
      "\t eval roc_auc: 0.5561\n",
      "\t eval precision@10: 0.0231\n",
      "\t eval recall@10: 0.0862\n",
      "\t eval ndcg@10: 0.0772\n",
      "==============================\n"
     ]
    },
    {
     "name": "stderr",
     "output_type": "stream",
     "text": [
      "train: 100%|██████████| 2/2 [00:00<00:00, 86.07it/s]\n"
     ]
    },
    {
     "name": "stdout",
     "output_type": "stream",
     "text": [
      "Epoch 8 elapsed: 0.027s\n",
      "\t \u001B[32mtrain_loss: 0.6435\u001B[0m\n"
     ]
    },
    {
     "name": "stderr",
     "output_type": "stream",
     "text": [
      "eval_pointwise: 100%|██████████| 1/1 [00:00<00:00, 500.16it/s]\n",
      "eval_listwise: 100%|██████████| 1/1 [00:00<00:00, 125.02it/s]\n"
     ]
    },
    {
     "name": "stdout",
     "output_type": "stream",
     "text": [
      "\t eval log_loss: 0.6904\n",
      "\t eval roc_auc: 0.5669\n",
      "\t eval precision@10: 0.0231\n",
      "\t eval recall@10: 0.0702\n",
      "\t eval ndcg@10: 0.0723\n",
      "==============================\n"
     ]
    },
    {
     "name": "stderr",
     "output_type": "stream",
     "text": [
      "train: 100%|██████████| 2/2 [00:00<00:00, 84.46it/s]\n"
     ]
    },
    {
     "name": "stdout",
     "output_type": "stream",
     "text": [
      "Epoch 9 elapsed: 0.027s\n",
      "\t \u001B[32mtrain_loss: 0.6407\u001B[0m\n"
     ]
    },
    {
     "name": "stderr",
     "output_type": "stream",
     "text": [
      "eval_pointwise: 100%|██████████| 1/1 [00:00<00:00, 333.73it/s]\n",
      "eval_listwise: 100%|██████████| 1/1 [00:00<00:00, 125.01it/s]\n"
     ]
    },
    {
     "name": "stdout",
     "output_type": "stream",
     "text": [
      "\t eval log_loss: 0.6901\n",
      "\t eval roc_auc: 0.5707\n",
      "\t eval precision@10: 0.0231\n",
      "\t eval recall@10: 0.0760\n",
      "\t eval ndcg@10: 0.0873\n",
      "==============================\n"
     ]
    },
    {
     "name": "stderr",
     "output_type": "stream",
     "text": [
      "train: 100%|██████████| 2/2 [00:00<00:00, 86.94it/s]\n"
     ]
    },
    {
     "name": "stdout",
     "output_type": "stream",
     "text": [
      "Epoch 10 elapsed: 0.028s\n",
      "\t \u001B[32mtrain_loss: 0.636\u001B[0m\n"
     ]
    },
    {
     "name": "stderr",
     "output_type": "stream",
     "text": [
      "eval_pointwise: 100%|██████████| 1/1 [00:00<00:00, 724.91it/s]\n",
      "eval_listwise: 100%|██████████| 1/1 [00:00<00:00, 124.98it/s]\n"
     ]
    },
    {
     "name": "stdout",
     "output_type": "stream",
     "text": [
      "\t eval log_loss: 0.6900\n",
      "\t eval roc_auc: 0.5691\n",
      "\t eval precision@10: 0.0231\n",
      "\t eval recall@10: 0.0760\n",
      "\t eval ndcg@10: 0.0875\n",
      "==============================\n"
     ]
    }
   ],
   "execution_count": 18
  },
  {
   "metadata": {
    "ExecuteTime": {
     "end_time": "2024-11-19T15:12:29.599794Z",
     "start_time": "2024-11-19T15:12:29.554797Z"
    }
   },
   "cell_type": "code",
   "source": [
    "from libreco.evaluation import evaluate\n",
    "\n",
    "evaluate(\n",
    "    model=model,\n",
    "    data=test_data,\n",
    "    neg_sampling=True,  # perform negative sampling on test data\n",
    "    metrics=[\"loss\", \"roc_auc\", \"precision\", \"recall\", \"ndcg\"],\n",
    ")"
   ],
   "id": "fcaf754714799568",
   "outputs": [
    {
     "name": "stderr",
     "output_type": "stream",
     "text": [
      "eval_pointwise: 100%|██████████| 1/1 [00:00<00:00, 500.16it/s]\n",
      "eval_listwise: 100%|██████████| 1/1 [00:00<00:00, 124.99it/s]\n"
     ]
    },
    {
     "data": {
      "text/plain": [
       "{'loss': 0.6884697562607667,\n",
       " 'roc_auc': 0.5881071314698693,\n",
       " 'precision': 0.023076923076923075,\n",
       " 'recall': 0.07825091575091575,\n",
       " 'ndcg': 0.10545334832226275}"
      ]
     },
     "execution_count": 19,
     "metadata": {},
     "output_type": "execute_result"
    }
   ],
   "execution_count": 19
  },
  {
   "metadata": {
    "ExecuteTime": {
     "end_time": "2024-11-19T15:12:30.875044Z",
     "start_time": "2024-11-19T15:12:29.712782Z"
    }
   },
   "cell_type": "code",
   "source": [
    "data_info.save(\"models\", model_name=\"wide_deep\")\n",
    "model.save(\"models\", model_name=\"wide_deep\")"
   ],
   "id": "2b53d85337ab7e53",
   "outputs": [],
   "execution_count": 20
  }
 ],
 "metadata": {
  "kernelspec": {
   "display_name": "Python 3",
   "language": "python",
   "name": "python3"
  },
  "language_info": {
   "codemirror_mode": {
    "name": "ipython",
    "version": 2
   },
   "file_extension": ".py",
   "mimetype": "text/x-python",
   "name": "python",
   "nbconvert_exporter": "python",
   "pygments_lexer": "ipython2",
   "version": "2.7.6"
  }
 },
 "nbformat": 4,
 "nbformat_minor": 5
}
